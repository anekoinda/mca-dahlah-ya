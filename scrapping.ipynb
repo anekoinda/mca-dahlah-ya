{
 "cells": [
  {
   "cell_type": "code",
   "execution_count": 29,
   "metadata": {},
   "outputs": [
    {
     "name": "stderr",
     "output_type": "stream",
     "text": [
      "[nltk_data] Downloading package words to\n",
      "[nltk_data]     C:\\Users\\shilt\\AppData\\Roaming\\nltk_data...\n",
      "[nltk_data]   Package words is already up-to-date!\n"
     ]
    }
   ],
   "source": [
    "import os\n",
    "from datetime import date\n",
    "from textblob import TextBlob\n",
    "import pandas as pd\n",
    "import mysql.connector as msql\n",
    "import re\n",
    "import nltk\n",
    "import csv\n",
    "nltk.download('words')\n",
    "words = set(nltk.corpus.words.words())"
   ]
  },
  {
   "cell_type": "code",
   "execution_count": 30,
   "metadata": {},
   "outputs": [],
   "source": [
    "search_term = \"indihome\"\n",
    "from_date = \"2021-09-10\"\n",
    "end_date = \"2021-11-10\"\n",
    "max_results = 100"
   ]
  },
  {
   "cell_type": "code",
   "execution_count": 31,
   "metadata": {},
   "outputs": [],
   "source": [
    "# Using OS library to call CLI commands in Python\n",
    "tweets = 'snscrape --jsonl --max-results {} --since {} twitter-search \"{} until:{}\"> result-tweets.json'.format(max_results, from_date, search_term, end_date)\n",
    "os.system(tweets)\n",
    "\n",
    "# Reads the json generated from the CLI command above and creates a pandas dataframe\n",
    "df = pd.read_json('result-tweets.json', lines=True)"
   ]
  },
  {
   "cell_type": "code",
   "execution_count": 32,
   "metadata": {},
   "outputs": [
    {
     "name": "stdout",
     "output_type": "stream",
     "text": [
      "(0, 'AktivitasTanpaBatas InternetnyaIndonesia BerjuangTanpaBatas IndiHome')\n",
      "(1, 'Jangan terlalu cepat menghakimi tanpa pernah mau mengerti sudut pandang yang lain Untuk urusan jaringan internet percayakan pada INDIHOME InternetnyaIndonesia AktivitasTanpaBatas')\n",
      "(2, 'oh God i really HATE indihome')\n",
      "(3, 'AktivitasTanpaBatas InternetnyaIndonesia BerjuangTanpaBatas IndiHome')\n",
      "(4, 'tolong dong ini kenapa yah Apa ada maintenance')\n",
      "(5, 'Siap Kak Rose Selamat menikmati layanan IndiHome dan menjalani aktivitas hari ini Semoga harinya menyenangkan Terima kasih Eshal')\n",
      "(6, 'Dear bayar mahal kecepatannya wifinya yang tinggi tp tetep aja lemot wifinya')\n",
      "(7, 'Halo Kak Ariya Terima kasih atas apresiasinya ya Apabila ada pertanyaan lain seputar layanan IndiHome silakan hubungi kami kembali Stay safe Stay healthy dan bersama IndiHome PastiBeres Syifa')\n",
      "(8, 'Indihome astaga')\n",
      "(9, 'Halo Kak Rose Terima kasih sudah berpartisipasi meramaikan kuis serta atas apresiasinya Semoga Kakak beruntung ya Stay safe Stay healthy dan bersama IndiHome PastiBeres Syifa')\n",
      "(10, 'Indihome lg trouble ya')\n",
      "(11, 'ujan gini indihome bertingkah kuota pake acara abis segala WKWKWKWK')\n",
      "(12, 'kenapa intetnet nya lemot kalau di tv buat youtube viu sama weetv muternya lama padahal kalau di hp sama laptob lancar internetnya giliran di tv lemot udah di matiin modemnya di nyalain ulang tetep sama aja mohon bantuannya')\n",
      "(13, 'Hai Sobat Bisa sekali nih Sobat nantinya langsung dibantu dari sini bisa juga registrasi pasang baru IndiHome melalui aplikasi myIndiHome atau melalui DM langsung ya Rachel')\n",
      "(14, 'Halo Kak Ratih Terima kasih banyak untuk apresiasinya semoga IndiHome selalu membantu dan mempermudah menjalani aktivitasnya Selamat beraktivitas kembali ya Aulia')\n",
      "(15, 'Customer service IndiHome oke banget gercep amp care TOP deh')\n",
      "(16, 'Happy pake IndiHome jaringan bagus walau masuk pedalaman Thanks')\n",
      "(17, 'Tentunya dong Kak Rayad Terima kasih atas apresiasinya ya Kak Selamat menikmati layanan IndiHome dan menjalani aktivitas hari ini Semoga harinya menyenangkan Eshal')\n",
      "(18, 'Alhamdulillah jaringan mantul WFH lancar Makaziiiii IndiHome')\n",
      "(19, 'quenaja hip hip horrayyy udh keluar pemenangnya keren indihome')\n",
      "(20, 'IndiHome luar biasa sangat lancar untuk WFH')\n",
      "(21, 'Pagi Kak Nina Ada dong Kak Kami memiliki layanan IndiHome Smart Camera paket sewa Rp25 00 0 00 bulan PPN 10 Apakah Kakak berminat Aulia')\n",
      "(22, 'Indihome koneksinya lancar terus keren deh')\n",
      "(23, 'Pagi IndiHome ada CCTV ga')\n",
      "(24, 'Indihome mati kok gak viral yah kayak yg di Jakarta')\n",
      "(25, 'agnesia2 Oh kowe seneng di tarot aku ono kenalan pinter tarot aku pernh di tarot jg bnr kbh Ketoke wong indihome IG ne edy dixie klo pingin ngechek')\n",
      "(26, 'Indihome ajg')\n",
      "(27, 'ini kenapa sih 2 hari kyk gini saya bayar selalu tepat waktu IndiHome ga bisa di pakek sama sekali karna los')\n",
      "(28, 'Halo Sobat Terima kasih atas apresiasinya ya Apabila ada pertanyaan lain seputar layanan IndiHome silakan hubungi kami kembali Stay safe Stay healthy dan bersama IndiHome PastiBeres Syifa')\n",
      "(29, 'indihome taiiii')\n",
      "(30, 'Terimakasih ya IndiHome selalu tersolusikan')\n",
      "(31, 'Halo Kak Cooky Terima kasih atas apresiasinya ya Apabila ada pertanyaan lain seputar layanan IndiHome silakan hubungi kami Kak Semoga Kakak sehat selalu Syifa')\n",
      "(32, 'Siap Kak Sasha Jika ada yang ingin ditanyakan mengenai layanan IndiHome jangan ragu hubungi kembali ya Terima kasih Eshal')\n",
      "(33, 'Sama sama Sobat Apabila ada pertanyaan lain seputar layanan IndiHome silakan hubungi kami Kak Semoga Kakak sehat selalu Syifa')\n",
      "(34, 'restart modem nya kak CS indihome')\n",
      "(35, 'Jawabannya C Ikutan yuk 1 2 herra 3 GiveawayIndiHomeJTD InternetnyaIndonesia IndiHome Done follow sosmed My Fb Fina Chintia Devi My Ig chintiadevi My Tw chindev')\n",
      "(36, 'Siapapun bisa jadi pahlawan Kitapun bisa jadi pahlawan keluarga dirumah dengan menyediakan koneksi stabilnya indihome untuk konektivitas keluarga AktivitasTanpaBatas IndiHomeMbois indihome internetnyaindonesia')\n",
      "(37, 'Min download aplikasi my indihome bisa lewat AppStore ga')\n",
      "(38, 'Pahlawan adalah dia yang menoreh tinta emas perjuangan tapi tak bimbang berada di belakang tanpa pengakuan AktivitasTanpaBatas indihome IndiHomeMbois InternetnyaIndonesia')\n",
      "(39, 'Semangat berinovasi ya sobat indihome jadilah pahlawan masa kini yang membanggakan negeri AktivitasTanpaBatas indihome IndiHomeMbois InternetnyaIndonesia')\n",
      "(40, 'Mari bersama kita perkokoh persatuan untuk membangun Negeri dengan semangat kepahlawanan ya sobat IndiHome AktivitasTanpaBatas indihome IndiHomeMbois InternetnyaIndonesia')\n",
      "(41, 'Harusnya sih jangan lupa ganti ke provider lain kak')\n",
      "(42, 'Ada Kak Ashley Paket IndiHome 3P Internet IndiHome TV dan Telepon dikecepatan 20Mbps Harganya sudah Riest informasikan via DM Silakan cek DM dan selanjutnya hubungi kami via DM Terima kasih Riest')\n",
      "(43, 'Sama sama Kak Jeenah Apabila ada pertanyaan lain seputar layanan IndiHome silakan hubungi kami kembali ya Terima kasih Syifa')\n",
      "(44, 'Jangan lupa restart modemnya kak')\n",
      "(45, 'tiaa Hai Kak Tia terima kasih banyak untuk apresiasinya senang mendengar kabar baiknya Semoga IndiHome selalu membantu menajalani aktivitasnya ya SemangatDigitalMuda Yazi')\n",
      "(46, 'Semoga kuis selanjutnya aku yg menang Btw pagi ini streaming pake IndiHome lancar bangeeet Thaaanks luv')\n",
      "(47, 'Ga usah ragu pake IndiHome jaringan stabil dan kencang dijamin kegiatan belajar di rumah jadi aman terkendali SemangatDigitalMuda')\n",
      "(48, 'Senang banget pakai IndiHome mempermudah proses kerja di rumah jadi semakin nyaman untuk bekerja SemangatDigitalMuda')\n",
      "(49, 'quenaja Pakai IndiHome jaringan lancar jaya dan aman terkendali jadi mudah untuk menjalani aktivitas sehari hari SemangatDigitalMuda')\n",
      "(50, 'Ini tuh bkn diskon atau apa Pas awal masang kan disuruh bayar deposit Nah klo udah beberapa bulan biasanya setahun uang depositnya dibalikin Dibalikinnya berupa pengurangan tagihan bulanannya Soalnya kmaren2 pas masih pasang indihome pernah gini jg')\n",
      "(51, 'Pagi Kak Ashley Bisa Kak Riest informasikan registrasi pasang baru IndiHome bisa melalui aplikasi myIndiHome atau melalui kami ya Kak Terima kasih Riest')\n",
      "(52, 'Mugo2 dicatet sabarku sing okeh karo malaikat mergo nganggo indihome')\n",
      "(53, 'Halo Kak Jeenah Untuk registrasi pasang baru layanan IndiHome tentu bisa melalui aplikasi myIndiHome Kak Silakan download aplikasi myIndiHome melalui Play Store atau App Store ya Terima kasih')\n",
      "(54, 'Indihome kak')\n",
      "(55, 'Selamat hari pahlawan Kobarkan semangat nasionalisme untuk mengenang amp menghargai jasa para pahlawan dengan mengembangkan kreatifitas tanpa batas bersama indihome AktivitasTanpaBatas IndiHome IndiHomeMbois internetnyaindonesia')\n",
      "(56, 'Makasih info nya kak ternyata gampang bgt ganti nama jaringanyaa IndiHome keren')\n",
      "(57, 'Pilih dan atur sendiri program video yang Sobat inginkan dengan Video On Demand Simak bagaimana menggunakan fitur Video On Demand yuk Nonton TV jadi mudah dan menyenangkan bersama IndiHome Music AktivitasTanpaBatas InternetnyaIndonesia IndiHome')\n",
      "(58, 'ini tsel sama indihome lagi ada trouble apa gimana si Dari kemarin sinyak ga ada yg ngangkat Yang wifi mati yang kuota lemotnya naudzubillah')\n",
      "(59, 'Pagi Kak Jojo Terima kasih banyak Kak Jojo atas apresiasinya Nyaman terus bersama IndiHome yang selalu setia menemani kegiatan di rumah Dion')\n",
      "(60, 'dari kemaren lagi gangguan apa gimana nih')\n",
      "(61, 'Ayo hadirkan layanan Internet WiFi cepat dan stabil dari indihome untuk dukung sgala kegiatan kamu di rumah Mulai dari Rp 335 000 bln kamu bisa dapetin kecepatan smpi dgn 300 Mbps Info lbih lanjut klik link dibawah ya AktivitasTanpaBatas IndiHome')\n",
      "(62, 'indihome ni pasti')\n",
      "(63, 'min pasang indihome sekarang bisa via aplikasi ga min')\n",
      "(64, 'kurang luih ngene lah nganti rampung')\n",
      "(65, 'Yups Tentu benar dong 10 November itu diperingati sebagai hari pahlawan sobat IndiHome AktivitasTanpaBatas IndiHomeMbois IndiHome InternetnyaIndonesia')\n",
      "(66, 'Ada yang suka ketinggalan program kesayangan kalian di Usee Prime Tenang jangan sedih jangan bimbang karena Indihome TV punya fitur canggih yaitu TVOD TV On Demand useeprimeitsmetime indihometv AktivitasTanpaBatas InternetnyaIndonesia')\n",
      "(67, 'Gimana sobat indihome Jawaban si kecil tadi bener ngak nih Masa kalah cepet sama si kecil jawabnya AktivitasTanpaBatas IndiHomeMbois IndiHome InternetnyaIndonesia')\n",
      "(68, 'Gapapa beda pilihan pelangi aja ada lebih dari satu warna Apapun pilihan Kamu soal internet IndiHome tetap jadi pilihan utama dong Yuk langganan sekarang dan nikmatin berbagai paket yang sesuai dengan kebutuhan digital Kamu klik AktivitasTanpaBatas')\n",
      "(69, 'Hehehe Si kecil aja uda pada cepet kalo browsing nyari informasi Untung aja terkoneksi indihome AktivitasTanpaBatas IndiHomeMbois IndiHome InternetnyaIndonesia')\n",
      "(70, 'Kebetulan aku nanyain juga nih sama si kecil Eh cepet tanggap dong Katanya aku blosing 10 nepember Hali palawan ya Baca nada bocil AktivitasTanpaBatas IndiHomeMbois IndiHome InternetnyaIndonesia')\n",
      "(71, 'Indihome ngapaa yakkk')\n",
      "(72, 'Sobat IndiHome uda pada inget belum 10 november itu ada peringatan hari apa AktivitasTanpaBatas IndiHomeMbois IndiHome InternetnyaIndonesia')\n",
      "(73, 'DEMI APA tagihan indihome bulan ini murah bangett kagettttt Awas aja kalo ternyata bulan depan jadii bayar doublee')\n",
      "(74, 'Selamat pagi sobat IndiHome Uda tgl 10 November aja nih AktivitasTanpaBatas IndiHomeMbois indihome InternetnyaIndonesia')\n",
      "(75, 'wtfff')\n",
      "(76, 'Siapa yang udah gak sabar sama comebacknya Song Hye Kyo Setelah 3 tahun hiatus Song Hye Kyo akan hadir kembali di Viu Original Now We Are Breaking Up AktivitasTanpaBatas IndiHome')\n",
      "(77, 'Siapa yang udah gak sabar sama comebacknya Song Hye Kyo Setelah 3 tahun hiatus Song Hye Kyo akan hadir kembali di Viu Original Now We Are Breaking Up AktivitasTanpaBatas IndiHome')\n",
      "(78, 'indihome flop bgt kesel')\n",
      "(79, 'Pakai Indihome semua lancar dong Info lebih lanjut klik link dibawah yaa InternetnyaIndonesia Indihome AktivitasTanpaBatas')\n",
      "(80, 'Indihome anjing sinyal putus mulu')\n",
      "(81, 'Pake IndiHome kerja dirumah selalu nyaman jaringannya lancar jaya sukses terus IndiHome')\n",
      "(82, 'Tidak semua masalahnya karena jaringan namun bisa juga karena modem yang bekerja secara nonstop Sehingga menimbulkan overheat atau keadaan dimana modem menimbulkan panas yang berlebih AktivitasTanpaBatas IndiHome')\n",
      "(83, 'Tidak semua masalahnya karena jaringan namun bisa juga karena modem yang bekerja secara nonstop Sehingga menimbulkan overheat atau keadaan dimana modem menimbulkan panas yang berlebih AktivitasTanpaBatas IndiHome')\n",
      "(84, 'ini jawaban nya yang bener bagaimana masih tahap pengembangan atau sudah bisa di gunakan soalnya dari SPBU tersebut menurut operatornya ga bisa menggunakan Cashless dengan alasan Jaringan susah alias sering gangguan padahal di sana sudah ada')\n",
      "(85, 'shitsu bisa untuk bayar tagihan indihome ga kak')\n",
      "(86, 'yg bener laa')\n",
      "(87, 'yg anak indihome tolong dong di belakang ge ada apa akhir akhir ini ngrasa aneh gitu kaya ada yg ngawasin gue dikamar')\n",
      "(88, 'ngeselin parah anjir sinyal u ngapasi ah')\n",
      "(89, 'astaga indihome')\n",
      "(90, 'Bisnis halo kak mau pindah alamat indihome gimana ya')\n",
      "(91, 'Hai Kak Maaf jadi gak nyaman Untuk informasi atau keluhan seputar dan IndiHome silakan menghubungi rekan Telkom agar dapat dibantu melalui 1 Facebook 2 Twitter 1 3')\n",
      "(92, 'ngelag gini woi')\n",
      "(93, 'Jiaaah langganan indihome jam segini ga bisa ngapa2in kalo rumah gue bisa selain pake indihome udah ganti dari kapan tau ini')\n",
      "(94, 'pagi kak mau pindah alamat indihome gimana ya')\n",
      "(95, 'Hujan deres begini enaknya rebahan di temenin minuman cemilah hangat trus nonton channel2 useetv IndiHome yg banyak pilihannya Gillaa nyaman banget kan TERIMA KASIH INDIHOME InternetnyaIndonesia AktivitasTanpaBatas indihome witeljaktim')\n",
      "(96, 'Halo ini kenapa jam segini gangguan kabelnya di gigit hiu lagi kah maniez')\n",
      "(97, 'sumpah bikes banget lau')\n",
      "(98, 'Wifi indihome kdg sensi sm netflix')\n",
      "(99, 'Halo Kak Almadina Terima kasih atas apresiasinya ya Kami selalu berusaha memberikan yang terbaik agar para pelanggan kami bisa menikmati layanan IndiHome dengan nyaman Mura')\n"
     ]
    }
   ],
   "source": [
    "def cleaner(tweets):\n",
    "    tweets = \" \".join(re.sub(\"(@[A-Za-z0-9]+)|([^0-9A-Za-z \\t])|(\\w+:\\/\\/\\S+)\",\" \", tweets).split())\n",
    "    tweets = \" \".join(re.sub(r\"http\\S+\",\" \", tweets).split())\n",
    "    tweets = \" \".join(w for w in nltk.wordpunct_tokenize(tweets))\n",
    "    return tweets\n",
    "df['content'] = df['content'].map(lambda x: cleaner(x))\n",
    "df.to_csv('data.csv') #specify location\n",
    "for row in df['content'].iteritems():\n",
    "    print(row)"
   ]
  },
  {
   "cell_type": "code",
   "execution_count": 33,
   "metadata": {},
   "outputs": [
    {
     "data": {
      "text/html": [
       "<div>\n",
       "<style scoped>\n",
       "    .dataframe tbody tr th:only-of-type {\n",
       "        vertical-align: middle;\n",
       "    }\n",
       "\n",
       "    .dataframe tbody tr th {\n",
       "        vertical-align: top;\n",
       "    }\n",
       "\n",
       "    .dataframe thead th {\n",
       "        text-align: right;\n",
       "    }\n",
       "</style>\n",
       "<table border=\"1\" class=\"dataframe\">\n",
       "  <thead>\n",
       "    <tr style=\"text-align: right;\">\n",
       "      <th></th>\n",
       "      <th>content</th>\n",
       "    </tr>\n",
       "  </thead>\n",
       "  <tbody>\n",
       "    <tr>\n",
       "      <th>0</th>\n",
       "      <td>AktivitasTanpaBatas InternetnyaIndonesia Berju...</td>\n",
       "    </tr>\n",
       "    <tr>\n",
       "      <th>1</th>\n",
       "      <td>Jangan terlalu cepat menghakimi tanpa pernah m...</td>\n",
       "    </tr>\n",
       "    <tr>\n",
       "      <th>2</th>\n",
       "      <td>oh God i really HATE indihome</td>\n",
       "    </tr>\n",
       "    <tr>\n",
       "      <th>3</th>\n",
       "      <td>AktivitasTanpaBatas InternetnyaIndonesia Berju...</td>\n",
       "    </tr>\n",
       "    <tr>\n",
       "      <th>4</th>\n",
       "      <td>tolong dong ini kenapa yah Apa ada maintenance</td>\n",
       "    </tr>\n",
       "  </tbody>\n",
       "</table>\n",
       "</div>"
      ],
      "text/plain": [
       "                                             content\n",
       "0  AktivitasTanpaBatas InternetnyaIndonesia Berju...\n",
       "1  Jangan terlalu cepat menghakimi tanpa pernah m...\n",
       "2                      oh God i really HATE indihome\n",
       "3  AktivitasTanpaBatas InternetnyaIndonesia Berju...\n",
       "4     tolong dong ini kenapa yah Apa ada maintenance"
      ]
     },
     "execution_count": 33,
     "metadata": {},
     "output_type": "execute_result"
    }
   ],
   "source": [
    "df = pd.read_csv('data.csv', usecols=['content'])\n",
    "df.to_csv('data_konten.csv') #specify location\n",
    "df.head()"
   ]
  },
  {
   "cell_type": "code",
   "execution_count": 34,
   "metadata": {},
   "outputs": [
    {
     "name": "stdout",
     "output_type": "stream",
     "text": [
      "Done\n"
     ]
    }
   ],
   "source": [
    "tweetData = pd.read_csv('data_konten.csv', index_col=False)\n",
    "tweetData.head()\n",
    "\n",
    "tweetData = msql.connect(host='localhost', user='root', passwd='', db='indihome_data')\n",
    "cursor = tweetData.cursor()\n",
    "\n",
    "csv_data = csv.reader(open('data_konten.csv'))\n",
    "next(csv_data, None)\n",
    "for row in csv_data:\n",
    "    cursor.execute('INSERT INTO data(id, tweet) VALUES(%s, %s)', row)\n",
    "tweetData.commit()\n",
    "cursor.close()\n",
    "print('Done')"
   ]
  },
  {
   "cell_type": "code",
   "execution_count": 35,
   "metadata": {},
   "outputs": [],
   "source": [
    "def translate(x):\n",
    "    try:\n",
    "        blob=TextBlob(x)\n",
    "        return (str(blob.translate(to = 'en')))\n",
    "    except: \n",
    "        return None\n",
    "\n",
    "df=pd.read_csv('data_konten.csv')\n",
    "df['content'] = df.content.astype(str) ##converting column to string where translation is required\n",
    "df['content'] = df['content'].apply(lambda x: translate(x)) #Translation happening\n",
    "df.to_csv('translated.csv') #specify location"
   ]
  },
  {
   "cell_type": "code",
   "execution_count": 36,
   "metadata": {},
   "outputs": [
    {
     "ename": "TypeError",
     "evalue": "The `text` argument passed to `__init__(text)` must be a string, not <class 'NoneType'>",
     "output_type": "error",
     "traceback": [
      "\u001b[1;31m---------------------------------------------------------------------------\u001b[0m",
      "\u001b[1;31mTypeError\u001b[0m                                 Traceback (most recent call last)",
      "\u001b[1;32m~\\AppData\\Local\\Temp/ipykernel_14156/693007781.py\u001b[0m in \u001b[0;36m<module>\u001b[1;34m\u001b[0m\n\u001b[0;32m      4\u001b[0m \u001b[1;32mdef\u001b[0m \u001b[0mgetPolarity\u001b[0m\u001b[1;33m(\u001b[0m\u001b[0mtext\u001b[0m\u001b[1;33m)\u001b[0m\u001b[1;33m:\u001b[0m\u001b[1;33m\u001b[0m\u001b[1;33m\u001b[0m\u001b[0m\n\u001b[0;32m      5\u001b[0m     \u001b[1;32mreturn\u001b[0m \u001b[0mTextBlob\u001b[0m\u001b[1;33m(\u001b[0m\u001b[0mtext\u001b[0m\u001b[1;33m)\u001b[0m\u001b[1;33m.\u001b[0m\u001b[0msentiment\u001b[0m\u001b[1;33m.\u001b[0m\u001b[0mpolarity\u001b[0m\u001b[1;33m\u001b[0m\u001b[1;33m\u001b[0m\u001b[0m\n\u001b[1;32m----> 6\u001b[1;33m \u001b[0mdf\u001b[0m\u001b[1;33m[\u001b[0m\u001b[1;34m'Subjectivity'\u001b[0m\u001b[1;33m]\u001b[0m \u001b[1;33m=\u001b[0m \u001b[0mdf\u001b[0m\u001b[1;33m[\u001b[0m\u001b[1;34m'content'\u001b[0m\u001b[1;33m]\u001b[0m\u001b[1;33m.\u001b[0m\u001b[0mapply\u001b[0m\u001b[1;33m(\u001b[0m\u001b[0mgetSubjectifity\u001b[0m\u001b[1;33m)\u001b[0m\u001b[1;33m\u001b[0m\u001b[1;33m\u001b[0m\u001b[0m\n\u001b[0m\u001b[0;32m      7\u001b[0m \u001b[0mdf\u001b[0m\u001b[1;33m[\u001b[0m\u001b[1;34m'Polarity'\u001b[0m\u001b[1;33m]\u001b[0m \u001b[1;33m=\u001b[0m \u001b[0mdf\u001b[0m\u001b[1;33m[\u001b[0m\u001b[1;34m'content'\u001b[0m\u001b[1;33m]\u001b[0m\u001b[1;33m.\u001b[0m\u001b[0mapply\u001b[0m\u001b[1;33m(\u001b[0m\u001b[0mgetPolarity\u001b[0m\u001b[1;33m)\u001b[0m\u001b[1;33m\u001b[0m\u001b[1;33m\u001b[0m\u001b[0m\n\u001b[0;32m      8\u001b[0m \u001b[0mdf\u001b[0m\u001b[1;33m\u001b[0m\u001b[1;33m\u001b[0m\u001b[0m\n",
      "\u001b[1;32m~\\AppData\\Local\\Programs\\Python\\Python39\\lib\\site-packages\\pandas\\core\\series.py\u001b[0m in \u001b[0;36mapply\u001b[1;34m(self, func, convert_dtype, args, **kwargs)\u001b[0m\n\u001b[0;32m   4355\u001b[0m         \u001b[0mdtype\u001b[0m\u001b[1;33m:\u001b[0m \u001b[0mfloat64\u001b[0m\u001b[1;33m\u001b[0m\u001b[1;33m\u001b[0m\u001b[0m\n\u001b[0;32m   4356\u001b[0m         \"\"\"\n\u001b[1;32m-> 4357\u001b[1;33m         \u001b[1;32mreturn\u001b[0m \u001b[0mSeriesApply\u001b[0m\u001b[1;33m(\u001b[0m\u001b[0mself\u001b[0m\u001b[1;33m,\u001b[0m \u001b[0mfunc\u001b[0m\u001b[1;33m,\u001b[0m \u001b[0mconvert_dtype\u001b[0m\u001b[1;33m,\u001b[0m \u001b[0margs\u001b[0m\u001b[1;33m,\u001b[0m \u001b[0mkwargs\u001b[0m\u001b[1;33m)\u001b[0m\u001b[1;33m.\u001b[0m\u001b[0mapply\u001b[0m\u001b[1;33m(\u001b[0m\u001b[1;33m)\u001b[0m\u001b[1;33m\u001b[0m\u001b[1;33m\u001b[0m\u001b[0m\n\u001b[0m\u001b[0;32m   4358\u001b[0m \u001b[1;33m\u001b[0m\u001b[0m\n\u001b[0;32m   4359\u001b[0m     def _reduce(\n",
      "\u001b[1;32m~\\AppData\\Local\\Programs\\Python\\Python39\\lib\\site-packages\\pandas\\core\\apply.py\u001b[0m in \u001b[0;36mapply\u001b[1;34m(self)\u001b[0m\n\u001b[0;32m   1041\u001b[0m             \u001b[1;32mreturn\u001b[0m \u001b[0mself\u001b[0m\u001b[1;33m.\u001b[0m\u001b[0mapply_str\u001b[0m\u001b[1;33m(\u001b[0m\u001b[1;33m)\u001b[0m\u001b[1;33m\u001b[0m\u001b[1;33m\u001b[0m\u001b[0m\n\u001b[0;32m   1042\u001b[0m \u001b[1;33m\u001b[0m\u001b[0m\n\u001b[1;32m-> 1043\u001b[1;33m         \u001b[1;32mreturn\u001b[0m \u001b[0mself\u001b[0m\u001b[1;33m.\u001b[0m\u001b[0mapply_standard\u001b[0m\u001b[1;33m(\u001b[0m\u001b[1;33m)\u001b[0m\u001b[1;33m\u001b[0m\u001b[1;33m\u001b[0m\u001b[0m\n\u001b[0m\u001b[0;32m   1044\u001b[0m \u001b[1;33m\u001b[0m\u001b[0m\n\u001b[0;32m   1045\u001b[0m     \u001b[1;32mdef\u001b[0m \u001b[0magg\u001b[0m\u001b[1;33m(\u001b[0m\u001b[0mself\u001b[0m\u001b[1;33m)\u001b[0m\u001b[1;33m:\u001b[0m\u001b[1;33m\u001b[0m\u001b[1;33m\u001b[0m\u001b[0m\n",
      "\u001b[1;32m~\\AppData\\Local\\Programs\\Python\\Python39\\lib\\site-packages\\pandas\\core\\apply.py\u001b[0m in \u001b[0;36mapply_standard\u001b[1;34m(self)\u001b[0m\n\u001b[0;32m   1096\u001b[0m                 \u001b[1;31m# List[Union[Callable[..., Any], str]]]]]\"; expected\u001b[0m\u001b[1;33m\u001b[0m\u001b[1;33m\u001b[0m\u001b[0m\n\u001b[0;32m   1097\u001b[0m                 \u001b[1;31m# \"Callable[[Any], Any]\"\u001b[0m\u001b[1;33m\u001b[0m\u001b[1;33m\u001b[0m\u001b[0m\n\u001b[1;32m-> 1098\u001b[1;33m                 mapped = lib.map_infer(\n\u001b[0m\u001b[0;32m   1099\u001b[0m                     \u001b[0mvalues\u001b[0m\u001b[1;33m,\u001b[0m\u001b[1;33m\u001b[0m\u001b[1;33m\u001b[0m\u001b[0m\n\u001b[0;32m   1100\u001b[0m                     \u001b[0mf\u001b[0m\u001b[1;33m,\u001b[0m  \u001b[1;31m# type: ignore[arg-type]\u001b[0m\u001b[1;33m\u001b[0m\u001b[1;33m\u001b[0m\u001b[0m\n",
      "\u001b[1;32m~\\AppData\\Local\\Programs\\Python\\Python39\\lib\\site-packages\\pandas\\_libs\\lib.pyx\u001b[0m in \u001b[0;36mpandas._libs.lib.map_infer\u001b[1;34m()\u001b[0m\n",
      "\u001b[1;32m~\\AppData\\Local\\Temp/ipykernel_14156/693007781.py\u001b[0m in \u001b[0;36mgetSubjectifity\u001b[1;34m(text)\u001b[0m\n\u001b[0;32m      1\u001b[0m \u001b[1;32mdef\u001b[0m \u001b[0mgetSubjectifity\u001b[0m\u001b[1;33m(\u001b[0m\u001b[0mtext\u001b[0m\u001b[1;33m)\u001b[0m\u001b[1;33m:\u001b[0m\u001b[1;33m\u001b[0m\u001b[1;33m\u001b[0m\u001b[0m\n\u001b[1;32m----> 2\u001b[1;33m     \u001b[1;32mreturn\u001b[0m \u001b[0mTextBlob\u001b[0m\u001b[1;33m(\u001b[0m\u001b[0mtext\u001b[0m\u001b[1;33m)\u001b[0m\u001b[1;33m.\u001b[0m\u001b[0msentiment\u001b[0m\u001b[1;33m.\u001b[0m\u001b[0msubjectivity\u001b[0m\u001b[1;33m\u001b[0m\u001b[1;33m\u001b[0m\u001b[0m\n\u001b[0m\u001b[0;32m      3\u001b[0m \u001b[1;33m\u001b[0m\u001b[0m\n\u001b[0;32m      4\u001b[0m \u001b[1;32mdef\u001b[0m \u001b[0mgetPolarity\u001b[0m\u001b[1;33m(\u001b[0m\u001b[0mtext\u001b[0m\u001b[1;33m)\u001b[0m\u001b[1;33m:\u001b[0m\u001b[1;33m\u001b[0m\u001b[1;33m\u001b[0m\u001b[0m\n\u001b[0;32m      5\u001b[0m     \u001b[1;32mreturn\u001b[0m \u001b[0mTextBlob\u001b[0m\u001b[1;33m(\u001b[0m\u001b[0mtext\u001b[0m\u001b[1;33m)\u001b[0m\u001b[1;33m.\u001b[0m\u001b[0msentiment\u001b[0m\u001b[1;33m.\u001b[0m\u001b[0mpolarity\u001b[0m\u001b[1;33m\u001b[0m\u001b[1;33m\u001b[0m\u001b[0m\n",
      "\u001b[1;32m~\\AppData\\Local\\Programs\\Python\\Python39\\lib\\site-packages\\textblob\\blob.py\u001b[0m in \u001b[0;36m__init__\u001b[1;34m(self, text, tokenizer, pos_tagger, np_extractor, analyzer, parser, classifier, clean_html)\u001b[0m\n\u001b[0;32m    382\u001b[0m                 parser=None, classifier=None, clean_html=False):\n\u001b[0;32m    383\u001b[0m         \u001b[1;32mif\u001b[0m \u001b[1;32mnot\u001b[0m \u001b[0misinstance\u001b[0m\u001b[1;33m(\u001b[0m\u001b[0mtext\u001b[0m\u001b[1;33m,\u001b[0m \u001b[0mbasestring\u001b[0m\u001b[1;33m)\u001b[0m\u001b[1;33m:\u001b[0m\u001b[1;33m\u001b[0m\u001b[1;33m\u001b[0m\u001b[0m\n\u001b[1;32m--> 384\u001b[1;33m             raise TypeError('The `text` argument passed to `__init__(text)` '\n\u001b[0m\u001b[0;32m    385\u001b[0m                             'must be a string, not {0}'.format(type(text)))\n\u001b[0;32m    386\u001b[0m         \u001b[1;32mif\u001b[0m \u001b[0mclean_html\u001b[0m\u001b[1;33m:\u001b[0m\u001b[1;33m\u001b[0m\u001b[1;33m\u001b[0m\u001b[0m\n",
      "\u001b[1;31mTypeError\u001b[0m: The `text` argument passed to `__init__(text)` must be a string, not <class 'NoneType'>"
     ]
    }
   ],
   "source": [
    "def getSubjectifity(text):\n",
    "    return TextBlob(text).sentiment.subjectivity\n",
    "\n",
    "def getPolarity(text):\n",
    "    return TextBlob(text).sentiment.polarity\n",
    "df['Subjectivity'] = df['content'].apply(getSubjectifity)\n",
    "df['Polarity'] = df['content'].apply(getPolarity)\n",
    "df"
   ]
  }
 ],
 "metadata": {
  "interpreter": {
   "hash": "d8e890796abd85914fc3cf3b471bdc1f1db11f15175eb4ee2ff43b1dba66e08b"
  },
  "kernelspec": {
   "display_name": "Python 3.9.7 64-bit ('venv': venv)",
   "language": "python",
   "name": "python3"
  },
  "language_info": {
   "codemirror_mode": {
    "name": "ipython",
    "version": 3
   },
   "file_extension": ".py",
   "mimetype": "text/x-python",
   "name": "python",
   "nbconvert_exporter": "python",
   "pygments_lexer": "ipython3",
   "version": "3.9.7"
  },
  "orig_nbformat": 4
 },
 "nbformat": 4,
 "nbformat_minor": 2
}
